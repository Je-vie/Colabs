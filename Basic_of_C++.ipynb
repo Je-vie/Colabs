{
  "nbformat": 4,
  "nbformat_minor": 0,
  "metadata": {
    "colab": {
      "name": "Basic of C++.ipynb",
      "provenance": [],
      "toc_visible": true,
      "collapsed_sections": [],
      "include_colab_link": true
    },
    "kernelspec": {
      "name": "python3",
      "display_name": "Python 3"
    },
    "accelerator": "GPU"
  },
  "cells": [
    {
      "cell_type": "markdown",
      "metadata": {
        "id": "view-in-github",
        "colab_type": "text"
      },
      "source": [
        "<a href=\"https://colab.research.google.com/github/Je-vie/Colabs/blob/main/Basic_of_C%2B%2B.ipynb\" target=\"_parent\"><img src=\"https://colab.research.google.com/assets/colab-badge.svg\" alt=\"Open In Colab\"/></a>"
      ]
    },
    {
      "cell_type": "markdown",
      "source": [
        "# **install c++ cuda eigen3**"
      ],
      "metadata": {
        "id": "MQMHMmrYXiny"
      }
    },
    {
      "cell_type": "code",
      "source": [
        "!wget https://developer.nvidia.com/compute/cuda/9.2/Prod/local_installers/cuda-repo-ubuntu1604-9-2-local_9.2.88-1_amd64 -O cuda-repo-ubuntu1604-9-2-local_9.2.88-1_amd64.deb\n",
        "!dpkg -i cuda-repo-ubuntu1604-9-2-local_9.2.88-1_amd64.deb\n",
        "!apt-key add /var/cuda-repo-9-2-local/7fa2af80.pub\n",
        "!apt-get update\n",
        "!apt-get install cuda-9.2\n",
        "\n",
        "# 安装eigen\n",
        "!git clone https://gitlab.com/libeigen/eigen.git\n",
        "!cd eigen && mkdir build && cd build && cmake .. && make install\n",
        "!pkg-config --modversion eigen3\n",
        "!sudo rm -rf /usr/include/Eigen\n",
        "!sudo ln -s /usr/local/include/eigen3/Eigen /usr/include/Eigen\n",
        "\n",
        "# 安装可编译cuda的c++ jupyter\n",
        "!git config --global url.\"https://\".insteadOf git://\n",
        "!pip install git+git://github.com/andreinechaev/nvcc4jupyter.git\n",
        "\n",
        "%load_ext nvcc_plugin"
      ],
      "metadata": {
        "id": "tboNNATCXpKs"
      },
      "execution_count": null,
      "outputs": []
    },
    {
      "cell_type": "markdown",
      "source": [
        "#**0-CUDA编程**"
      ],
      "metadata": {
        "id": "ItC8z9b98zIo"
      }
    },
    {
      "cell_type": "code",
      "source": [
        "%%cu\n",
        "\n",
        "/*\n",
        "* 文件名 helloworld.cu\n",
        "* 编译： nvcc -o helloworld helloworld.cu\n",
        "*/\n",
        "#include <iostream>\n",
        "#include <stdio.h>\n",
        "#include <Eigen/Core>\n",
        "/*\n",
        "* __global__ 用于修饰在gpu上运行且由cpu调用的函数\n",
        "* 类似的，__device__ 用于修饰在gpu上运行且由gpu调用的函数,本例不涉及\n",
        "*/\n",
        "__global__ void k_add (int a, int b, int* c ){\n",
        "    *c = a+b;\n",
        "}\n",
        "/*\n",
        "* __host__用于修饰在cpu上运行的函数，一般缺省\n",
        "*/\n",
        "int main(void){\n",
        "    int h_c;//h前缀表示host,指cpu的变量\n",
        "    int *d_c;//d前缀表示device,指gpu的变量\n",
        "    /*\n",
        "    * cudaMalloc功能类似malloc\n",
        "    * 第一个参数是指向地址的地址变量(&d_c)，第二个参数是分配显存的大小\n",
        "    * 函数会修改&d_c指向的变量，完成对d_c的赋值\n",
        "    * (void**)是为了让函数无需关心d_c的类型\n",
        "    */\n",
        "    cudaMalloc((void**)&d_c, sizeof(int));\n",
        "    /*\n",
        "    * gpu函数调用时有<<< >>>\n",
        "    * 其中第一个变量表示使用几个线程块，第二个变量表示一个线程块使用几个线程\n",
        "    */\n",
        "    k_add<<<1,1>>>(2,7,d_c);\n",
        "    /*\n",
        "    * cudaMemcpy功能类似memcpy\n",
        "    * 在cpu中不能解引用gpu变量，必须先将变量从显存复制到内存上才能访问\n",
        "    * 最后一个参数指定复制的方向\n",
        "    */\n",
        "    cudaMemcpy(&h_c, d_c,sizeof(int),cudaMemcpyDeviceToHost);\n",
        "    /*\n",
        "    * cudaFree功能类似free\n",
        "    */\n",
        "    cudaFree(d_c);\n",
        "    printf(\"%d\\n\",h_c);\n",
        "    return 0;\n",
        "\n",
        "}"
      ],
      "metadata": {
        "id": "B5MDe1YI9MrQ"
      },
      "execution_count": null,
      "outputs": []
    },
    {
      "cell_type": "code",
      "source": [
        "%%cu\n",
        "#include \"cuda_runtime.h\"\n",
        "#include \"device_launch_parameters.h\"\n",
        "#include <stdio.h>\n",
        "__global__ void helloFromGPU(void)\n",
        "{\n",
        "    printf(\"Hello World from GPU!\\n\");\n",
        "}\n",
        "\n",
        "int main(void)\n",
        "{\n",
        "    // hello from cpu\n",
        "    cudaError_t cudaStatus;\n",
        "    printf(\"Hello World from CPU!\\n\");\n",
        "\n",
        "    helloFromGPU << <1, 10 >> > ();\n",
        "    cudaDeviceReset();//重置CUDA设备释放程序占用的资源=\n",
        "    return 0;\n",
        "}"
      ],
      "metadata": {
        "id": "y4rwLdfXQQLl"
      },
      "execution_count": null,
      "outputs": []
    },
    {
      "cell_type": "code",
      "source": [
        "%%cu\n",
        "#include <iostream>\n",
        "#include <stdio.h>\n",
        "#include <Eigen/Core>\n",
        "\n",
        "using namespace std;\n",
        "\n",
        "int main() {\n",
        "    Eigen::Matrix3d m=Eigen::Matrix3d::Random(3,3);\n",
        "    cout<<\"the matrixXd is\"<<m<<endl;\n",
        "\n",
        "    using Vector = Eigen::Matrix<float, Eigen::Dynamic, 1, Eigen::ColMajor>;\n",
        "    Vector vector;\n",
        "    uint64_t size = 6;\n",
        "\n",
        "    vector.resize(size);\n",
        "    for (uint64_t i = 0; i < size; ++i)\n",
        "        vector[i] = i;\n",
        "\n",
        "    uint64_t sizeInBytes = size * sizeof (float) + sizeof (vector);\n",
        "\n",
        "    Vector *vectorCuda;\n",
        "    cudaMalloc((void**)&vectorCuda, sizeInBytes);\n",
        "    cudaMemcpy(vectorCuda, &vector, sizeInBytes, cudaMemcpyKind::cudaMemcpyHostToDevice);\n",
        "\n",
        "    Vector result;\n",
        "    result.resize(size);\n",
        "    cudaMemcpy(&result, vectorCuda, sizeInBytes, cudaMemcpyKind::cudaMemcpyDeviceToHost);\n",
        "\n",
        "    cudaFree(vectorCuda);\n",
        "    std::cout << \"result: \" << std::endl << result << std::endl;\n",
        "    return 0;\n",
        "}"
      ],
      "metadata": {
        "id": "WTX9kyjpOOPf"
      },
      "execution_count": null,
      "outputs": []
    },
    {
      "cell_type": "code",
      "source": [
        "%%cu\n",
        "#include <iostream>\n",
        "#include <vector>\n",
        "#include <Eigen/Core>\n",
        "#include<time.h>\n",
        "\n",
        "// cpu 版本\n",
        "float dot(const std::vector<Eigen::Vector3d> &v1, const std::vector<Eigen::Vector3d> &v2) {\n",
        "    std::cout << \"CPU Version!!!\" << std::endl;\n",
        "    float x=0;\n",
        "    for (int i=0; i<v1.size(); ++i)\n",
        "    {\n",
        "        x += v1[i].dot(v2[i]);\n",
        "    }\n",
        "    return x;\n",
        "}\n",
        "\n",
        "float testfunction() {\n",
        "    std::vector<Eigen::Vector3d> v1(100000, Eigen::Vector3d{ 1.0, 1.0, 1.0 });\n",
        "    std::vector<Eigen::Vector3d> v2(100000, Eigen::Vector3d{ 1.0, 1.0, 1.0 });\n",
        "\n",
        "    float x = dot(v1,v2);\n",
        "\n",
        "    return x;\n",
        "}\n",
        "\n",
        "\n",
        "int main(int argc, char ** argv)\n",
        "{\n",
        "    clock_t start,end;\n",
        "    start=clock();\n",
        "    double x = testfunction();\n",
        "    end=clock();\n",
        "\t  std::cout<<\"运行时间\"<<(double)(end-start)<<std::endl;\n",
        "\n",
        "    std::cerr << \">> Testfunction returned: \" << x << std::endl;\n",
        "\n",
        "\treturn 0;\n",
        "}"
      ],
      "metadata": {
        "id": "CIrlLi31roSL"
      },
      "execution_count": null,
      "outputs": []
    },
    {
      "cell_type": "code",
      "source": [
        "%%cu\n",
        "#include <iostream>\n",
        "#include <vector>\n",
        "#include <Eigen/Core>\n",
        "#include <stdio.h>\n",
        "#include<time.h>\n",
        "\n",
        "// gpu 版本\n",
        "\n",
        "static void HandleError( cudaError_t err, const char *file, int line )\n",
        "{\n",
        "\t// CUDA error handeling from the \"CUDA by example\" book\n",
        "  // std::cout << \"GPU HandleError!!!\" << std::endl;\n",
        "\tif (err != cudaSuccess)\n",
        "    {\n",
        "\t\tprintf( \"%s in %s at line %d\\n\", cudaGetErrorString( err ), file, line );\n",
        "\t\texit( EXIT_FAILURE );\n",
        "\t}\n",
        "}\n",
        "\n",
        "#define HANDLE_ERROR( err ) (HandleError( err, __FILE__, __LINE__ ))\n",
        "\n",
        "namespace Kernel\n",
        "{\n",
        "    __global__ void cu_dot(Eigen::Vector3d *v1, Eigen::Vector3d *v2, double *out, size_t N)\n",
        "    {\n",
        "        \n",
        "        // printf(\"GPU Version !!!\\n\");\n",
        "        int idx = blockIdx.x * blockDim.x + threadIdx.x;\n",
        "        if(idx < N)\n",
        "        {\n",
        "            out[idx] = v1[idx].dot(v2[idx]); // 说明eigen 实现了Vector3d 的dot GPU算子\n",
        "        }\n",
        "        return;\n",
        "    }\n",
        "\n",
        "    // The wrapper for the calling of the actual kernel\n",
        "    double dot(const std::vector<Eigen::Vector3d> & v1, const std::vector<Eigen::Vector3d> & v2)\n",
        "    {        \n",
        "        int n = v1.size();\n",
        "        double *ret = new double[n];\n",
        "\n",
        "        // Allocate device arrays\n",
        "        Eigen::Vector3d *dev_v1, *dev_v2;\n",
        "        HANDLE_ERROR(cudaMalloc((void **)&dev_v1, sizeof(Eigen::Vector3d)*n));\n",
        "        HANDLE_ERROR(cudaMalloc((void **)&dev_v2, sizeof(Eigen::Vector3d)*n));\n",
        "        double* dev_ret;\n",
        "        HANDLE_ERROR(cudaMalloc((void **)&dev_ret, sizeof(double)*n));\n",
        "\n",
        "        // Copy to device\n",
        "        HANDLE_ERROR(cudaMemcpy(dev_v1, v1.data(), sizeof(Eigen::Vector3d)*n, cudaMemcpyHostToDevice));\n",
        "        HANDLE_ERROR(cudaMemcpy(dev_v2, v2.data(), sizeof(Eigen::Vector3d)*n, cudaMemcpyHostToDevice));\n",
        "\n",
        "        // Dot product, 线程块和线程数， 类似openmp 指定分块和指定线程数\n",
        "        cu_dot<<<(n+1023)/1024, 1024>>>(dev_v1, dev_v2, dev_ret, n);\n",
        "        \n",
        "        // Copy to host\n",
        "        HANDLE_ERROR(cudaMemcpy(ret, dev_ret, sizeof(double)*n, cudaMemcpyDeviceToHost));\n",
        "\n",
        "        // Reduction of the array\n",
        "        for (int i=1; i<n; ++i)\n",
        "        {\n",
        "            ret[0] += ret[i];\n",
        "        }\n",
        "\n",
        "        // Return\n",
        "        return ret[0];\n",
        "    }\n",
        "}\n",
        "\n",
        "double testfunction() {\n",
        "    std::vector<Eigen::Vector3d> v1(100000, Eigen::Vector3d{ 1.0, 1.0, 1.0 });\n",
        "    std::vector<Eigen::Vector3d> v2(100000, Eigen::Vector3d{ 1.0, 1.0, 1.0 });\n",
        "\n",
        "    double x = Kernel::dot(v1,v2);\n",
        "\n",
        "    return x;\n",
        "}\n",
        "\n",
        "\n",
        "int main(int argc, char ** argv)\n",
        "{\n",
        "    clock_t start,end;\n",
        "    start=clock();\n",
        "    double x = testfunction();\n",
        "    end=clock();\n",
        "\t  std::cout<<\"运行时间\"<<(double)(end-start)<<std::endl;\n",
        "\n",
        "\n",
        "    std::cerr << \">> Testfunction returned: \" << x << std::endl;\n",
        "\n",
        "\treturn 0;\n",
        "}"
      ],
      "metadata": {
        "id": "M6IeRkK-yxs7"
      },
      "execution_count": null,
      "outputs": []
    },
    {
      "cell_type": "markdown",
      "source": [
        "结论： 矩阵较小的时候因为要进行cpu到gpu 之间的拷贝，所以并不划算"
      ],
      "metadata": {
        "id": "7mHwz6fT4HH-"
      }
    },
    {
      "cell_type": "markdown",
      "source": [
        "# **0-SIMD编程**"
      ],
      "metadata": {
        "id": "hF2T_4jOW8kB"
      }
    },
    {
      "cell_type": "markdown",
      "source": [
        "    simd 中的内存对齐问题，avx要求输入向量的首地址要能被32整除，sse是被16整除。否则会因为内存不对齐程序崩溃。为了强制让编译器对齐，g++编译器可以使用__attribute__指定。"
      ],
      "metadata": {
        "id": "cZgVTCMDGDRD"
      }
    },
    {
      "cell_type": "code",
      "source": [
        "%%writefile avx.cpp\n",
        "#include <iostream>\n",
        "\n",
        "#ifdef __AVX__\n",
        "  #include <immintrin.h>\n",
        "#else\n",
        "  #warning No AVX support - will not compile\n",
        "#endif\n",
        "\n",
        "int main() {\n",
        "\n",
        "  double input1[4] = {1, 1, 1, 1};\n",
        "  double input2[4] = {1, 2, 3, 4};\n",
        "  double result[4];\n",
        "\n",
        "  std::cout << \"address of input1: \" << input1 << std::endl;\n",
        "  std::cout << \"address of input2: \" << input2 << std::endl;\n",
        "\n",
        "  __m256d a = _mm256_load_pd(input1);\n",
        "  __m256d b = _mm256_load_pd(input2);\n",
        "  __m256d c = _mm256_add_pd(a, b);\n",
        "\n",
        "  _mm256_store_pd(result, c);\n",
        "\n",
        "  std::cout << result[0] << \" \" << result[1] << \" \" << result[2] << \" \" << result[3] << std::endl;\n",
        "\n",
        "  return 0;\n",
        "}"
      ],
      "metadata": {
        "id": "ztO1wIkRGriL",
        "colab": {
          "base_uri": "https://localhost:8080/"
        },
        "outputId": "dc7f0b29-e13b-4f96-d5ea-6b0c2ced2b31"
      },
      "execution_count": 10,
      "outputs": [
        {
          "output_type": "stream",
          "name": "stdout",
          "text": [
            "Overwriting avx.cpp\n"
          ]
        }
      ]
    },
    {
      "cell_type": "code",
      "source": [
        "!g++ -o avx --std=c++11 -mavx avx.cpp\n",
        "!ls\n",
        "!chmod +x avx && ./avx"
      ],
      "metadata": {
        "id": "64n0JU9SHbOD",
        "colab": {
          "base_uri": "https://localhost:8080/"
        },
        "outputId": "2b2da5f5-63ca-4630-a6e2-a6a70a6433e5"
      },
      "execution_count": 11,
      "outputs": [
        {
          "output_type": "stream",
          "name": "stdout",
          "text": [
            "avx\t cuda-repo-ubuntu1604-9-2-local_9.2.88-1_amd64.deb  main\t src\n",
            "avx.cpp  eigen\t\t\t\t\t\t    sample_data\n",
            "address of input1: 0x7ffc610d5790\n",
            "address of input2: 0x7ffc610d57b0\n"
          ]
        }
      ]
    },
    {
      "cell_type": "code",
      "source": [
        "%%writefile avx_2.cpp\n",
        "#include <iostream>\n",
        "\n",
        "#ifdef __AVX__\n",
        "  #include <immintrin.h>\n",
        "#else\n",
        "  #warning No AVX support - will not compile\n",
        "#endif\n",
        "\n",
        "int main() {\n",
        "\n",
        "  __attribute__ ((aligned (32))) double input1[4] = {1, 1, 1, 1};\n",
        "  __attribute__ ((aligned (32))) double input2[4] = {1, 2, 3, 4};\n",
        "  __attribute__ ((aligned (32))) double result[4];\n",
        "\n",
        "  std::cout << \"address of input1: \" << input1 << std::endl;\n",
        "  std::cout << \"address of input2: \" << input2 << std::endl;\n",
        "\n",
        "  __m256d a = _mm256_load_pd(input1);\n",
        "  __m256d b = _mm256_load_pd(input2);\n",
        "  __m256d c = _mm256_add_pd(a, b);\n",
        "\n",
        "  _mm256_store_pd(result, c);\n",
        "\n",
        "  std::cout << result[0] << \" \" << result[1] << \" \" << result[2] << \" \" << result[3] << std::endl;\n",
        "\n",
        "  return 0;\n",
        "}"
      ],
      "metadata": {
        "id": "yn4gS-7pXUDC"
      },
      "execution_count": null,
      "outputs": []
    },
    {
      "cell_type": "code",
      "source": [
        "!g++ -o avx_2 --std=c++11 -mavx avx_2.cpp\n",
        "!ls\n",
        "!chmod +x avx_2 && ./avx_2"
      ],
      "metadata": {
        "id": "ptVu2A3Pbg9n"
      },
      "execution_count": null,
      "outputs": []
    }
  ]
}